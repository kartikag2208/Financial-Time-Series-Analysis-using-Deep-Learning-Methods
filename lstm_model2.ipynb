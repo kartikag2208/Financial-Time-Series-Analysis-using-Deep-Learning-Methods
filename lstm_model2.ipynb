{
  "cells": [
    {
      "cell_type": "markdown",
      "id": "yrU0iWdalVGx",
      "metadata": {
        "id": "yrU0iWdalVGx"
      },
      "source": [
        "# Import all the required libraries\n",
        "\n",
        "---\n",
        "\n"
      ]
    },
    {
      "cell_type": "code",
      "execution_count": 125,
      "id": "4189cf86",
      "metadata": {
        "id": "4189cf86",
        "scrolled": false
      },
      "outputs": [],
      "source": [
        "import pandas as pd\n",
        "import datetime as dt\n",
        "from datetime import date\n",
        "import matplotlib.pyplot as plt\n",
        "import yfinance as yf\n",
        "import numpy as np\n",
        "import tensorflow as tf"
      ]
    },
    {
      "cell_type": "markdown",
      "id": "Nij98iZElfyQ",
      "metadata": {
        "id": "Nij98iZElfyQ"
      },
      "source": [
        "# Define start day to fetch the dataset from the yahoo finance library\n",
        "\n",
        "---\n",
        "\n"
      ]
    },
    {
      "cell_type": "code",
      "execution_count": 126,
      "id": "d20a4c49",
      "metadata": {
        "id": "d20a4c49",
        "scrolled": false
      },
      "outputs": [],
      "source": [
        "START = \"2010-01-01\"\n",
        "# # TODAY = date.today().strftime(\"%Y-%m-%d\")\n",
        "TODAY = \"2023-10-20\"\n",
        "\n",
        "# Define a function to load the dataset\n",
        "\n",
        "def load_data(ticker):\n",
        "    data = yf.download(ticker, START, TODAY)\n",
        "    data.reset_index(inplace=True)\n",
        "    return data"
      ]
    },
    {
      "cell_type": "code",
      "execution_count": 127,
      "id": "c5f71e4e",
      "metadata": {
        "colab": {
          "base_uri": "https://localhost:8080/",
          "height": 424
        },
        "id": "c5f71e4e",
        "outputId": "7f498673-9183-448e-f04d-6cd79844a790"
      },
      "outputs": [
        {
          "name": "stderr",
          "output_type": "stream",
          "text": [
            "[*********************100%***********************]  1 of 1 completed\n"
          ]
        },
        {
          "data": {
            "text/html": [
              "<div>\n",
              "<style scoped>\n",
              "    .dataframe tbody tr th:only-of-type {\n",
              "        vertical-align: middle;\n",
              "    }\n",
              "\n",
              "    .dataframe tbody tr th {\n",
              "        vertical-align: top;\n",
              "    }\n",
              "\n",
              "    .dataframe thead th {\n",
              "        text-align: right;\n",
              "    }\n",
              "</style>\n",
              "<table border=\"1\" class=\"dataframe\">\n",
              "  <thead>\n",
              "    <tr style=\"text-align: right;\">\n",
              "      <th></th>\n",
              "      <th>Date</th>\n",
              "      <th>Open</th>\n",
              "      <th>High</th>\n",
              "      <th>Low</th>\n",
              "      <th>Close</th>\n",
              "      <th>Adj Close</th>\n",
              "      <th>Volume</th>\n",
              "    </tr>\n",
              "  </thead>\n",
              "  <tbody>\n",
              "    <tr>\n",
              "      <th>0</th>\n",
              "      <td>2010-01-04</td>\n",
              "      <td>498.814209</td>\n",
              "      <td>498.814209</td>\n",
              "      <td>467.155457</td>\n",
              "      <td>491.682404</td>\n",
              "      <td>438.932251</td>\n",
              "      <td>38323043</td>\n",
              "    </tr>\n",
              "    <tr>\n",
              "      <th>1</th>\n",
              "      <td>2010-01-05</td>\n",
              "      <td>525.695618</td>\n",
              "      <td>525.695618</td>\n",
              "      <td>487.065033</td>\n",
              "      <td>489.488007</td>\n",
              "      <td>436.973236</td>\n",
              "      <td>10696412</td>\n",
              "    </tr>\n",
              "    <tr>\n",
              "      <th>2</th>\n",
              "      <td>2010-01-06</td>\n",
              "      <td>493.693939</td>\n",
              "      <td>500.368591</td>\n",
              "      <td>489.465149</td>\n",
              "      <td>497.397003</td>\n",
              "      <td>444.033752</td>\n",
              "      <td>11845880</td>\n",
              "    </tr>\n",
              "    <tr>\n",
              "      <th>3</th>\n",
              "      <td>2010-01-07</td>\n",
              "      <td>497.397003</td>\n",
              "      <td>509.740479</td>\n",
              "      <td>492.825348</td>\n",
              "      <td>505.648834</td>\n",
              "      <td>451.400299</td>\n",
              "      <td>13098960</td>\n",
              "    </tr>\n",
              "    <tr>\n",
              "      <th>4</th>\n",
              "      <td>2010-01-08</td>\n",
              "      <td>506.540314</td>\n",
              "      <td>509.191895</td>\n",
              "      <td>501.054321</td>\n",
              "      <td>504.323059</td>\n",
              "      <td>450.216705</td>\n",
              "      <td>7555074</td>\n",
              "    </tr>\n",
              "    <tr>\n",
              "      <th>...</th>\n",
              "      <td>...</td>\n",
              "      <td>...</td>\n",
              "      <td>...</td>\n",
              "      <td>...</td>\n",
              "      <td>...</td>\n",
              "      <td>...</td>\n",
              "      <td>...</td>\n",
              "    </tr>\n",
              "    <tr>\n",
              "      <th>3402</th>\n",
              "      <td>2023-10-13</td>\n",
              "      <td>2340.000000</td>\n",
              "      <td>2357.500000</td>\n",
              "      <td>2329.149902</td>\n",
              "      <td>2349.300049</td>\n",
              "      <td>2341.353516</td>\n",
              "      <td>5075158</td>\n",
              "    </tr>\n",
              "    <tr>\n",
              "      <th>3403</th>\n",
              "      <td>2023-10-16</td>\n",
              "      <td>2345.000000</td>\n",
              "      <td>2354.550049</td>\n",
              "      <td>2336.000000</td>\n",
              "      <td>2344.050049</td>\n",
              "      <td>2336.121338</td>\n",
              "      <td>2964518</td>\n",
              "    </tr>\n",
              "    <tr>\n",
              "      <th>3404</th>\n",
              "      <td>2023-10-17</td>\n",
              "      <td>2356.000000</td>\n",
              "      <td>2359.699951</td>\n",
              "      <td>2341.300049</td>\n",
              "      <td>2355.250000</td>\n",
              "      <td>2347.283447</td>\n",
              "      <td>3964090</td>\n",
              "    </tr>\n",
              "    <tr>\n",
              "      <th>3405</th>\n",
              "      <td>2023-10-18</td>\n",
              "      <td>2355.250000</td>\n",
              "      <td>2367.000000</td>\n",
              "      <td>2321.000000</td>\n",
              "      <td>2324.000000</td>\n",
              "      <td>2316.139160</td>\n",
              "      <td>4459160</td>\n",
              "    </tr>\n",
              "    <tr>\n",
              "      <th>3406</th>\n",
              "      <td>2023-10-19</td>\n",
              "      <td>2312.000000</td>\n",
              "      <td>2321.800049</td>\n",
              "      <td>2301.000000</td>\n",
              "      <td>2306.149902</td>\n",
              "      <td>2298.349365</td>\n",
              "      <td>6016278</td>\n",
              "    </tr>\n",
              "  </tbody>\n",
              "</table>\n",
              "<p>3407 rows × 7 columns</p>\n",
              "</div>"
            ],
            "text/plain": [
              "           Date         Open         High          Low        Close  \\\n",
              "0    2010-01-04   498.814209   498.814209   467.155457   491.682404   \n",
              "1    2010-01-05   525.695618   525.695618   487.065033   489.488007   \n",
              "2    2010-01-06   493.693939   500.368591   489.465149   497.397003   \n",
              "3    2010-01-07   497.397003   509.740479   492.825348   505.648834   \n",
              "4    2010-01-08   506.540314   509.191895   501.054321   504.323059   \n",
              "...         ...          ...          ...          ...          ...   \n",
              "3402 2023-10-13  2340.000000  2357.500000  2329.149902  2349.300049   \n",
              "3403 2023-10-16  2345.000000  2354.550049  2336.000000  2344.050049   \n",
              "3404 2023-10-17  2356.000000  2359.699951  2341.300049  2355.250000   \n",
              "3405 2023-10-18  2355.250000  2367.000000  2321.000000  2324.000000   \n",
              "3406 2023-10-19  2312.000000  2321.800049  2301.000000  2306.149902   \n",
              "\n",
              "        Adj Close    Volume  \n",
              "0      438.932251  38323043  \n",
              "1      436.973236  10696412  \n",
              "2      444.033752  11845880  \n",
              "3      451.400299  13098960  \n",
              "4      450.216705   7555074  \n",
              "...           ...       ...  \n",
              "3402  2341.353516   5075158  \n",
              "3403  2336.121338   2964518  \n",
              "3404  2347.283447   3964090  \n",
              "3405  2316.139160   4459160  \n",
              "3406  2298.349365   6016278  \n",
              "\n",
              "[3407 rows x 7 columns]"
            ]
          },
          "execution_count": 127,
          "metadata": {},
          "output_type": "execute_result"
        }
      ],
      "source": [
        "ticker_label = 'TATAMOTORS.NS'\n",
        "data = load_data(ticker_label)\n",
        "df=data\n",
        "df"
      ]
    },
    {
      "cell_type": "code",
      "execution_count": 128,
      "id": "c7ec39e4",
      "metadata": {
        "colab": {
          "base_uri": "https://localhost:8080/",
          "height": 258
        },
        "id": "c7ec39e4",
        "outputId": "1b43ba2d-5fab-447a-da64-ebbede3317e9"
      },
      "outputs": [
        {
          "name": "stdout",
          "output_type": "stream",
          "text": [
            "Index(['Date', 'Open', 'High', 'Low', 'Close', 'Adj Close', 'Volume'], dtype='object')\n"
          ]
        },
        {
          "data": {
            "text/html": [
              "<div>\n",
              "<style scoped>\n",
              "    .dataframe tbody tr th:only-of-type {\n",
              "        vertical-align: middle;\n",
              "    }\n",
              "\n",
              "    .dataframe tbody tr th {\n",
              "        vertical-align: top;\n",
              "    }\n",
              "\n",
              "    .dataframe thead th {\n",
              "        text-align: right;\n",
              "    }\n",
              "</style>\n",
              "<table border=\"1\" class=\"dataframe\">\n",
              "  <thead>\n",
              "    <tr style=\"text-align: right;\">\n",
              "      <th></th>\n",
              "      <th>Open</th>\n",
              "      <th>High</th>\n",
              "      <th>Low</th>\n",
              "      <th>Close</th>\n",
              "      <th>Volume</th>\n",
              "    </tr>\n",
              "  </thead>\n",
              "  <tbody>\n",
              "    <tr>\n",
              "      <th>0</th>\n",
              "      <td>498.814209</td>\n",
              "      <td>498.814209</td>\n",
              "      <td>467.155457</td>\n",
              "      <td>491.682404</td>\n",
              "      <td>38323043</td>\n",
              "    </tr>\n",
              "    <tr>\n",
              "      <th>1</th>\n",
              "      <td>525.695618</td>\n",
              "      <td>525.695618</td>\n",
              "      <td>487.065033</td>\n",
              "      <td>489.488007</td>\n",
              "      <td>10696412</td>\n",
              "    </tr>\n",
              "    <tr>\n",
              "      <th>2</th>\n",
              "      <td>493.693939</td>\n",
              "      <td>500.368591</td>\n",
              "      <td>489.465149</td>\n",
              "      <td>497.397003</td>\n",
              "      <td>11845880</td>\n",
              "    </tr>\n",
              "    <tr>\n",
              "      <th>3</th>\n",
              "      <td>497.397003</td>\n",
              "      <td>509.740479</td>\n",
              "      <td>492.825348</td>\n",
              "      <td>505.648834</td>\n",
              "      <td>13098960</td>\n",
              "    </tr>\n",
              "    <tr>\n",
              "      <th>4</th>\n",
              "      <td>506.540314</td>\n",
              "      <td>509.191895</td>\n",
              "      <td>501.054321</td>\n",
              "      <td>504.323059</td>\n",
              "      <td>7555074</td>\n",
              "    </tr>\n",
              "  </tbody>\n",
              "</table>\n",
              "</div>"
            ],
            "text/plain": [
              "         Open        High         Low       Close    Volume\n",
              "0  498.814209  498.814209  467.155457  491.682404  38323043\n",
              "1  525.695618  525.695618  487.065033  489.488007  10696412\n",
              "2  493.693939  500.368591  489.465149  497.397003  11845880\n",
              "3  497.397003  509.740479  492.825348  505.648834  13098960\n",
              "4  506.540314  509.191895  501.054321  504.323059   7555074"
            ]
          },
          "execution_count": 128,
          "metadata": {},
          "output_type": "execute_result"
        }
      ],
      "source": [
        "print(df.columns)\n",
        "# df = df.drop(['Date', 'Dividends', 'Stock Splits'], axis = 1)\n",
        "df = df.drop(['Date', 'Adj Close'], axis = 1)\n",
        "df.head()"
      ]
    },
    {
      "cell_type": "markdown",
      "id": "M-ojrPeXOxPq",
      "metadata": {
        "id": "M-ojrPeXOxPq"
      },
      "source": [
        "Visualizing Closing Price"
      ]
    },
    {
      "cell_type": "code",
      "execution_count": 129,
      "id": "DCvdjb9gOhar",
      "metadata": {
        "colab": {
          "base_uri": "https://localhost:8080/",
          "height": 564
        },
        "id": "DCvdjb9gOhar",
        "outputId": "087a33ba-b3e4-4391-9e24-1941c88016ac"
      },
      "outputs": [
        {
          "data": {
            "image/png": "[encoded data removed]",
            "text/plain": [
              "<Figure size 1200x600 with 1 Axes>"
            ]
          },
          "metadata": {},
          "output_type": "display_data"
        }
      ],
      "source": [
        "plt.figure(figsize=(12, 6))\n",
        "plt.plot(df['Close'])\n",
        "plt.title(\"{} Stock Price(Closing)\".format(ticker_label))\n",
        "plt.xlabel(\"Date\")\n",
        "plt.ylabel(\"Price (in $)\")\n",
        "plt.grid(True)\n",
        "plt.show()"
      ]
    },
    {
      "cell_type": "code",
      "execution_count": 130,
      "id": "73888072",
      "metadata": {
        "colab": {
          "base_uri": "https://localhost:8080/",
          "height": 424
        },
        "id": "73888072",
        "outputId": "8d7947b2-e878-4bd3-8e43-c46730c7979d"
      },
      "outputs": [
        {
          "data": {
            "text/html": [
              "<div>\n",
              "<style scoped>\n",
              "    .dataframe tbody tr th:only-of-type {\n",
              "        vertical-align: middle;\n",
              "    }\n",
              "\n",
              "    .dataframe tbody tr th {\n",
              "        vertical-align: top;\n",
              "    }\n",
              "\n",
              "    .dataframe thead th {\n",
              "        text-align: right;\n",
              "    }\n",
              "</style>\n",
              "<table border=\"1\" class=\"dataframe\">\n",
              "  <thead>\n",
              "    <tr style=\"text-align: right;\">\n",
              "      <th></th>\n",
              "      <th>Open</th>\n",
              "      <th>High</th>\n",
              "      <th>Low</th>\n",
              "      <th>Close</th>\n",
              "      <th>Volume</th>\n",
              "    </tr>\n",
              "  </thead>\n",
              "  <tbody>\n",
              "    <tr>\n",
              "      <th>0</th>\n",
              "      <td>498.814209</td>\n",
              "      <td>498.814209</td>\n",
              "      <td>467.155457</td>\n",
              "      <td>491.682404</td>\n",
              "      <td>38323043</td>\n",
              "    </tr>\n",
              "    <tr>\n",
              "      <th>1</th>\n",
              "      <td>525.695618</td>\n",
              "      <td>525.695618</td>\n",
              "      <td>487.065033</td>\n",
              "      <td>489.488007</td>\n",
              "      <td>10696412</td>\n",
              "    </tr>\n",
              "    <tr>\n",
              "      <th>2</th>\n",
              "      <td>493.693939</td>\n",
              "      <td>500.368591</td>\n",
              "      <td>489.465149</td>\n",
              "      <td>497.397003</td>\n",
              "      <td>11845880</td>\n",
              "    </tr>\n",
              "    <tr>\n",
              "      <th>3</th>\n",
              "      <td>497.397003</td>\n",
              "      <td>509.740479</td>\n",
              "      <td>492.825348</td>\n",
              "      <td>505.648834</td>\n",
              "      <td>13098960</td>\n",
              "    </tr>\n",
              "    <tr>\n",
              "      <th>4</th>\n",
              "      <td>506.540314</td>\n",
              "      <td>509.191895</td>\n",
              "      <td>501.054321</td>\n",
              "      <td>504.323059</td>\n",
              "      <td>7555074</td>\n",
              "    </tr>\n",
              "    <tr>\n",
              "      <th>...</th>\n",
              "      <td>...</td>\n",
              "      <td>...</td>\n",
              "      <td>...</td>\n",
              "      <td>...</td>\n",
              "      <td>...</td>\n",
              "    </tr>\n",
              "    <tr>\n",
              "      <th>3402</th>\n",
              "      <td>2340.000000</td>\n",
              "      <td>2357.500000</td>\n",
              "      <td>2329.149902</td>\n",
              "      <td>2349.300049</td>\n",
              "      <td>5075158</td>\n",
              "    </tr>\n",
              "    <tr>\n",
              "      <th>3403</th>\n",
              "      <td>2345.000000</td>\n",
              "      <td>2354.550049</td>\n",
              "      <td>2336.000000</td>\n",
              "      <td>2344.050049</td>\n",
              "      <td>2964518</td>\n",
              "    </tr>\n",
              "    <tr>\n",
              "      <th>3404</th>\n",
              "      <td>2356.000000</td>\n",
              "      <td>2359.699951</td>\n",
              "      <td>2341.300049</td>\n",
              "      <td>2355.250000</td>\n",
              "      <td>3964090</td>\n",
              "    </tr>\n",
              "    <tr>\n",
              "      <th>3405</th>\n",
              "      <td>2355.250000</td>\n",
              "      <td>2367.000000</td>\n",
              "      <td>2321.000000</td>\n",
              "      <td>2324.000000</td>\n",
              "      <td>4459160</td>\n",
              "    </tr>\n",
              "    <tr>\n",
              "      <th>3406</th>\n",
              "      <td>2312.000000</td>\n",
              "      <td>2321.800049</td>\n",
              "      <td>2301.000000</td>\n",
              "      <td>2306.149902</td>\n",
              "      <td>6016278</td>\n",
              "    </tr>\n",
              "  </tbody>\n",
              "</table>\n",
              "<p>3407 rows × 5 columns</p>\n",
              "</div>"
            ],
            "text/plain": [
              "             Open         High          Low        Close    Volume\n",
              "0      498.814209   498.814209   467.155457   491.682404  38323043\n",
              "1      525.695618   525.695618   487.065033   489.488007  10696412\n",
              "2      493.693939   500.368591   489.465149   497.397003  11845880\n",
              "3      497.397003   509.740479   492.825348   505.648834  13098960\n",
              "4      506.540314   509.191895   501.054321   504.323059   7555074\n",
              "...           ...          ...          ...          ...       ...\n",
              "3402  2340.000000  2357.500000  2329.149902  2349.300049   5075158\n",
              "3403  2345.000000  2354.550049  2336.000000  2344.050049   2964518\n",
              "3404  2356.000000  2359.699951  2341.300049  2355.250000   3964090\n",
              "3405  2355.250000  2367.000000  2321.000000  2324.000000   4459160\n",
              "3406  2312.000000  2321.800049  2301.000000  2306.149902   6016278\n",
              "\n",
              "[3407 rows x 5 columns]"
            ]
          },
          "execution_count": 130,
          "metadata": {},
          "output_type": "execute_result"
        }
      ],
      "source": [
        "df"
      ]
    },
    {
      "cell_type": "markdown",
      "id": "bCw5fsrlmfpm",
      "metadata": {
        "id": "bCw5fsrlmfpm"
      },
      "source": [
        "## Spliting the dataset into training (70%) and testing (30%) set"
      ]
    },
    {
      "cell_type": "code",
      "execution_count": 131,
      "id": "9610c5fc",
      "metadata": {
        "colab": {
          "base_uri": "https://localhost:8080/"
        },
        "id": "9610c5fc",
        "outputId": "16f21733-e3ae-4181-e3f2-18dc60ec01ad"
      },
      "outputs": [
        {
          "name": "stdout",
          "output_type": "stream",
          "text": [
            "(2384, 7)\n",
            "(1023, 7)\n"
          ]
        }
      ],
      "source": [
        "# Splitting data into training and testing\n",
        "\n",
        "train = pd.DataFrame(data[0:int(len(data)*0.70)])\n",
        "test = pd.DataFrame(data[int(len(data)*0.70): int(len(data))])\n",
        "\n",
        "print(train.shape)\n",
        "print(test.shape)"
      ]
    },
    {
      "cell_type": "markdown",
      "id": "-a818gdwm_WV",
      "metadata": {
        "id": "-a818gdwm_WV"
      },
      "source": [
        "# Using MinMax scaler for normalization of the dataset\n",
        "\n",
        "---\n",
        "\n"
      ]
    },
    {
      "cell_type": "code",
      "execution_count": 132,
      "id": "01f04df7",
      "metadata": {
        "id": "01f04df7"
      },
      "outputs": [],
      "source": [
        "from sklearn.preprocessing import MinMaxScaler\n",
        "scaler = MinMaxScaler(feature_range=(0,1))"
      ]
    },
    {
      "cell_type": "code",
      "execution_count": 154,
      "id": "53oSB51dB6Tw",
      "metadata": {
        "id": "53oSB51dB6Tw"
      },
      "outputs": [
        {
          "name": "stdout",
          "output_type": "stream",
          "text": [
            "[[ 491.68240356]\n",
            " [ 489.48800659]\n",
            " [ 497.39700317]\n",
            " ...\n",
            " [1141.59008789]\n",
            " [1103.05102539]\n",
            " [1098.25073242]]\n",
            "<class 'numpy.ndarray'>\n",
            "[[ 491.68240356]\n",
            " [ 489.48800659]\n",
            " [ 497.39700317]\n",
            " ...\n",
            " [1141.59008789]\n",
            " [1103.05102539]\n",
            " [1098.25073242]]\n",
            "<class 'numpy.ndarray'>\n",
            "(2384, 1)\n",
            "\n",
            "(2384, 1)\n",
            "(2384, 1)\n"
          ]
        }
      ],
      "source": [
        "# Taking the 'close' price values\n",
        "# train_close = train.iloc[:, 4:5].values\n",
        "# test_close = test.iloc[:, 4:5].values\n",
        "# test_dates = test.iloc[:, 0:1].values\n",
        "\n",
        "train_close = train['Close'].values.reshape(-1, 1)\n",
        "test_close = test['Close'].values.reshape(-1, 1)\n",
        "test_dates = test['Date'].values.reshape(-1, 1)\n",
        "\n",
        "# test.iloc[:, 0:1].values\n",
        "# print(alt)\n",
        "# print(type(alt))\n",
        "\n",
        "\n",
        "data_training_array = scaler.fit_transform(train_close)\n",
        "print(data_training_array.shape)\n"
      ]
    },
    {
      "cell_type": "code",
      "execution_count": 134,
      "id": "10227978",
      "metadata": {
        "id": "10227978"
      },
      "outputs": [],
      "source": [
        "x_train = []\n",
        "y_train = []\n",
        "lookback_window_length = 50\n",
        "\n",
        "for i in range(lookback_window_length, data_training_array.shape[0]):\n",
        "    x_train.append(data_training_array[i-lookback_window_length: i])\n",
        "    y_train.append(data_training_array[i, 0])\n",
        "\n",
        "x_train, y_train = np.array(x_train), np.array(y_train)"
      ]
    },
    {
      "cell_type": "code",
      "execution_count": 135,
      "id": "0ea6446e",
      "metadata": {
        "colab": {
          "base_uri": "https://localhost:8080/"
        },
        "id": "0ea6446e",
        "outputId": "1a30fa70-6d1c-4249-f9ea-21128ca2038c"
      },
      "outputs": [
        {
          "name": "stdout",
          "output_type": "stream",
          "text": [
            "(2334, 50, 1)\n",
            "(2334,)\n",
            "(1023, 1)\n"
          ]
        }
      ],
      "source": [
        "print(x_train.shape)\n",
        "print(y_train.shape)\n",
        "print(test_close.shape)\n",
        "\n",
        "past_lookback_days = pd.DataFrame(train_close[-lookback_window_length:])"
      ]
    },
    {
      "cell_type": "code",
      "execution_count": 136,
      "id": "d1320120",
      "metadata": {},
      "outputs": [
        {
          "name": "stdout",
          "output_type": "stream",
          "text": [
            "(1023, 1)\n"
          ]
        }
      ],
      "source": [
        "test_df = pd.DataFrame(test_close)\n",
        "print(test_df.shape)"
      ]
    },
    {
      "cell_type": "markdown",
      "id": "d18324f8",
      "metadata": {},
      "source": [
        "**Defining the final dataset for testing by including last 100 coloums of the training dataset to get the prediction from the 1st column of the testing dataset.**\n",
        "\n",
        "---\n"
      ]
    },
    {
      "cell_type": "code",
      "execution_count": 137,
      "id": "b7f423c5",
      "metadata": {},
      "outputs": [
        {
          "name": "stdout",
          "output_type": "stream",
          "text": [
            "(1073, 1)\n"
          ]
        }
      ],
      "source": [
        "final_df = pd.concat([past_lookback_days, test_df], axis=0, ignore_index = True)\n",
        "print(final_df.shape)"
      ]
    },
    {
      "cell_type": "code",
      "execution_count": 138,
      "id": "9d49457c",
      "metadata": {},
      "outputs": [
        {
          "name": "stdout",
          "output_type": "stream",
          "text": [
            "(1073, 1)\n",
            "[[0.19062972]\n",
            " [0.20748329]\n",
            " [0.20662678]\n",
            " ...\n",
            " [0.85244116]\n",
            " [0.83522079]\n",
            " [0.82538445]]\n"
          ]
        }
      ],
      "source": [
        "input_data = scaler.fit_transform(final_df)\n",
        "print(input_data.shape)\n",
        "print(input_data)"
      ]
    },
    {
      "cell_type": "code",
      "execution_count": 139,
      "id": "a6a0fbe1",
      "metadata": {},
      "outputs": [
        {
          "name": "stdout",
          "output_type": "stream",
          "text": [
            "(1023, 50, 1)\n",
            "(1023,)\n",
            "[0.15848439 0.17052628 0.17037513 ... 0.85244116 0.83522079 0.82538445]\n"
          ]
        }
      ],
      "source": [
        "x_test = []\n",
        "y_test = []\n",
        "for i in range(lookback_window_length, input_data.shape[0]):\n",
        "   x_test.append(input_data[i-lookback_window_length: i])\n",
        "   y_test.append(input_data[i, 0])\n",
        "\n",
        "x_test, y_test = np.array(x_test), np.array(y_test)\n",
        "print(x_test.shape)\n",
        "print(y_test.shape)\n",
        "print(y_test)"
      ]
    },
    {
      "cell_type": "markdown",
      "id": "dsMIlQ8DnVOJ",
      "metadata": {
        "id": "dsMIlQ8DnVOJ"
      },
      "source": [
        "# ML Model (LSTM)\n",
        "\n",
        "---\n",
        "\n"
      ]
    },
    {
      "cell_type": "code",
      "execution_count": 140,
      "id": "e60ed317",
      "metadata": {
        "id": "e60ed317"
      },
      "outputs": [],
      "source": [
        "from tensorflow.keras.layers import Dense, Dropout, LSTM, Input\n",
        "from tensorflow.keras.models import Sequential"
      ]
    },
    {
      "cell_type": "code",
      "execution_count": 141,
      "id": "17082610",
      "metadata": {
        "id": "17082610"
      },
      "outputs": [],
      "source": [
        "model = Sequential()\n",
        "\n",
        "model.add(Input(shape=(x_train.shape[1], 1)))\n",
        "\n",
        "model.add(LSTM(units=50, activation='tanh', return_sequences=True))\n",
        "model.add(Dropout(0.2))\n",
        "\n",
        "# model.add(LSTM(units = 50, activation = 'tanh', return_sequences=True))\n",
        "# model.add(Dropout(0.3))\n",
        "\n",
        "model.add(LSTM(units = 60, activation = 'relu'))\n",
        "model.add(Dropout(0.3))\n",
        "\n",
        "model.add(Dense(units = 1))"
      ]
    },
    {
      "cell_type": "code",
      "execution_count": 142,
      "id": "5f5a1db3",
      "metadata": {
        "colab": {
          "base_uri": "https://localhost:8080/",
          "height": 367
        },
        "id": "5f5a1db3",
        "outputId": "6b436640-3db2-4833-cacd-fd0ec799d700"
      },
      "outputs": [
        {
          "name": "stdout",
          "output_type": "stream",
          "text": [
            "Model: \"sequential_5\"\n",
            "_________________________________________________________________\n",
            " Layer (type)                Output Shape              Param #   \n",
            "=================================================================\n",
            " lstm_10 (LSTM)              (None, 50, 50)            10400     \n",
            "                                                                 \n",
            " dropout_10 (Dropout)        (None, 50, 50)            0         \n",
            "                                                                 \n",
            " lstm_11 (LSTM)              (None, 60)                26640     \n",
            "                                                                 \n",
            " dropout_11 (Dropout)        (None, 60)                0         \n",
            "                                                                 \n",
            " dense_5 (Dense)             (None, 1)                 61        \n",
            "                                                                 \n",
            "=================================================================\n",
            "Total params: 37101 (144.93 KB)\n",
            "Trainable params: 37101 (144.93 KB)\n",
            "Non-trainable params: 0 (0.00 Byte)\n",
            "_________________________________________________________________\n"
          ]
        }
      ],
      "source": [
        "model.summary()"
      ]
    },
    {
      "cell_type": "markdown",
      "id": "KgEnUfCnn_1r",
      "metadata": {
        "id": "KgEnUfCnn_1r"
      },
      "source": [
        "# Training the model\n",
        "\n",
        "---\n",
        "\n"
      ]
    },
    {
      "cell_type": "code",
      "execution_count": 143,
      "id": "1d0c9b64",
      "metadata": {
        "colab": {
          "base_uri": "https://localhost:8080/"
        },
        "id": "1d0c9b64",
        "outputId": "26b51b24-4d22-438c-de73-9f48ef6f9e8b",
        "scrolled": false
      },
      "outputs": [
        {
          "name": "stdout",
          "output_type": "stream",
          "text": [
            "Epoch 1/50\n",
            "59/59 [==============================] - 5s 43ms/step - loss: 0.0031 - mean_absolute_error: 0.0384 - val_loss: 0.0131 - val_mean_absolute_error: 0.0849\n",
            "Epoch 2/50\n",
            "59/59 [==============================] - 2s 34ms/step - loss: 0.0010 - mean_absolute_error: 0.0229 - val_loss: 0.0281 - val_mean_absolute_error: 0.1357\n",
            "Epoch 3/50\n",
            "59/59 [==============================] - 2s 29ms/step - loss: 9.2491e-04 - mean_absolute_error: 0.0215 - val_loss: 0.0042 - val_mean_absolute_error: 0.0497\n",
            "Epoch 4/50\n",
            "59/59 [==============================] - 2s 29ms/step - loss: 7.0439e-04 - mean_absolute_error: 0.0194 - val_loss: 0.0022 - val_mean_absolute_error: 0.0370\n",
            "Epoch 5/50\n",
            "59/59 [==============================] - 2s 26ms/step - loss: 7.0398e-04 - mean_absolute_error: 0.0194 - val_loss: 0.0041 - val_mean_absolute_error: 0.0503\n",
            "Epoch 6/50\n",
            "59/59 [==============================] - 2s 27ms/step - loss: 6.0880e-04 - mean_absolute_error: 0.0177 - val_loss: 0.0090 - val_mean_absolute_error: 0.0783\n",
            "Epoch 7/50\n",
            "59/59 [==============================] - 2s 28ms/step - loss: 6.2695e-04 - mean_absolute_error: 0.0182 - val_loss: 0.0069 - val_mean_absolute_error: 0.0658\n",
            "Epoch 8/50\n",
            "59/59 [==============================] - 2s 27ms/step - loss: 5.6919e-04 - mean_absolute_error: 0.0168 - val_loss: 0.0018 - val_mean_absolute_error: 0.0331\n",
            "Epoch 9/50\n",
            "59/59 [==============================] - 2s 27ms/step - loss: 4.6037e-04 - mean_absolute_error: 0.0155 - val_loss: 0.0018 - val_mean_absolute_error: 0.0335\n",
            "Epoch 10/50\n",
            "59/59 [==============================] - 2s 28ms/step - loss: 4.5896e-04 - mean_absolute_error: 0.0153 - val_loss: 0.0015 - val_mean_absolute_error: 0.0298\n",
            "Epoch 11/50\n",
            "59/59 [==============================] - 2s 28ms/step - loss: 4.7845e-04 - mean_absolute_error: 0.0156 - val_loss: 0.0017 - val_mean_absolute_error: 0.0317\n",
            "Epoch 12/50\n",
            "59/59 [==============================] - 2s 26ms/step - loss: 5.0952e-04 - mean_absolute_error: 0.0153 - val_loss: 0.0040 - val_mean_absolute_error: 0.0550\n",
            "Epoch 13/50\n",
            "59/59 [==============================] - 2s 28ms/step - loss: 4.3852e-04 - mean_absolute_error: 0.0150 - val_loss: 0.0014 - val_mean_absolute_error: 0.0281\n",
            "Epoch 14/50\n",
            "59/59 [==============================] - 2s 30ms/step - loss: 3.9369e-04 - mean_absolute_error: 0.0139 - val_loss: 0.0016 - val_mean_absolute_error: 0.0299\n",
            "Epoch 15/50\n",
            "59/59 [==============================] - 2s 32ms/step - loss: 3.8439e-04 - mean_absolute_error: 0.0137 - val_loss: 0.0056 - val_mean_absolute_error: 0.0667\n",
            "Epoch 16/50\n",
            "59/59 [==============================] - 2s 30ms/step - loss: 3.9746e-04 - mean_absolute_error: 0.0136 - val_loss: 0.0024 - val_mean_absolute_error: 0.0384\n",
            "Epoch 17/50\n",
            "59/59 [==============================] - 2s 29ms/step - loss: 3.6417e-04 - mean_absolute_error: 0.0134 - val_loss: 0.0015 - val_mean_absolute_error: 0.0291\n",
            "Epoch 18/50\n",
            "59/59 [==============================] - 2s 31ms/step - loss: 3.2481e-04 - mean_absolute_error: 0.0128 - val_loss: 0.0027 - val_mean_absolute_error: 0.0434\n",
            "Epoch 19/50\n",
            "59/59 [==============================] - 2s 31ms/step - loss: 3.6063e-04 - mean_absolute_error: 0.0133 - val_loss: 0.0012 - val_mean_absolute_error: 0.0260\n",
            "Epoch 20/50\n",
            "59/59 [==============================] - 2s 28ms/step - loss: 3.4015e-04 - mean_absolute_error: 0.0128 - val_loss: 0.0012 - val_mean_absolute_error: 0.0261\n",
            "Epoch 21/50\n",
            "59/59 [==============================] - 2s 30ms/step - loss: 3.1011e-04 - mean_absolute_error: 0.0123 - val_loss: 0.0017 - val_mean_absolute_error: 0.0316\n",
            "Epoch 22/50\n",
            "59/59 [==============================] - 2s 33ms/step - loss: 3.3386e-04 - mean_absolute_error: 0.0129 - val_loss: 0.0013 - val_mean_absolute_error: 0.0275\n",
            "Epoch 23/50\n",
            "59/59 [==============================] - 2s 32ms/step - loss: 3.1259e-04 - mean_absolute_error: 0.0126 - val_loss: 0.0013 - val_mean_absolute_error: 0.0278\n",
            "Epoch 24/50\n",
            "59/59 [==============================] - 2s 29ms/step - loss: 2.7975e-04 - mean_absolute_error: 0.0122 - val_loss: 0.0018 - val_mean_absolute_error: 0.0345\n",
            "Epoch 25/50\n",
            "59/59 [==============================] - 2s 27ms/step - loss: 3.4362e-04 - mean_absolute_error: 0.0130 - val_loss: 0.0077 - val_mean_absolute_error: 0.0802\n",
            "Epoch 26/50\n",
            "59/59 [==============================] - 2s 28ms/step - loss: 3.2969e-04 - mean_absolute_error: 0.0127 - val_loss: 0.0016 - val_mean_absolute_error: 0.0312\n",
            "Epoch 27/50\n",
            "59/59 [==============================] - 2s 28ms/step - loss: 2.7632e-04 - mean_absolute_error: 0.0120 - val_loss: 0.0047 - val_mean_absolute_error: 0.0603\n",
            "Epoch 28/50\n",
            "59/59 [==============================] - 2s 28ms/step - loss: 3.2805e-04 - mean_absolute_error: 0.0128 - val_loss: 0.0018 - val_mean_absolute_error: 0.0334\n",
            "Epoch 29/50\n",
            "59/59 [==============================] - 2s 29ms/step - loss: 3.2966e-04 - mean_absolute_error: 0.0130 - val_loss: 0.0017 - val_mean_absolute_error: 0.0333\n",
            "Epoch 30/50\n",
            "59/59 [==============================] - 2s 28ms/step - loss: 3.1438e-04 - mean_absolute_error: 0.0125 - val_loss: 0.0019 - val_mean_absolute_error: 0.0350\n",
            "Epoch 31/50\n",
            "59/59 [==============================] - 2s 28ms/step - loss: 2.9462e-04 - mean_absolute_error: 0.0123 - val_loss: 0.0037 - val_mean_absolute_error: 0.0519\n",
            "Epoch 32/50\n",
            "59/59 [==============================] - 2s 28ms/step - loss: 2.8625e-04 - mean_absolute_error: 0.0119 - val_loss: 0.0015 - val_mean_absolute_error: 0.0298\n",
            "Epoch 33/50\n",
            "59/59 [==============================] - 2s 28ms/step - loss: 2.8642e-04 - mean_absolute_error: 0.0121 - val_loss: 0.0014 - val_mean_absolute_error: 0.0296\n",
            "Epoch 34/50\n",
            "59/59 [==============================] - 2s 28ms/step - loss: 2.5773e-04 - mean_absolute_error: 0.0114 - val_loss: 9.5281e-04 - val_mean_absolute_error: 0.0227\n",
            "Epoch 35/50\n",
            "59/59 [==============================] - 2s 30ms/step - loss: 3.0988e-04 - mean_absolute_error: 0.0122 - val_loss: 0.0010 - val_mean_absolute_error: 0.0241\n",
            "Epoch 36/50\n",
            "59/59 [==============================] - 2s 31ms/step - loss: 2.9304e-04 - mean_absolute_error: 0.0120 - val_loss: 0.0012 - val_mean_absolute_error: 0.0260\n",
            "Epoch 37/50\n",
            "59/59 [==============================] - 2s 27ms/step - loss: 3.3982e-04 - mean_absolute_error: 0.0126 - val_loss: 9.3784e-04 - val_mean_absolute_error: 0.0228\n",
            "Epoch 38/50\n",
            "59/59 [==============================] - 2s 27ms/step - loss: 2.8122e-04 - mean_absolute_error: 0.0122 - val_loss: 0.0029 - val_mean_absolute_error: 0.0453\n",
            "Epoch 39/50\n",
            "59/59 [==============================] - 2s 29ms/step - loss: 2.7238e-04 - mean_absolute_error: 0.0118 - val_loss: 0.0012 - val_mean_absolute_error: 0.0266\n",
            "Epoch 40/50\n",
            "59/59 [==============================] - 2s 27ms/step - loss: 2.6777e-04 - mean_absolute_error: 0.0115 - val_loss: 0.0027 - val_mean_absolute_error: 0.0429\n",
            "Epoch 41/50\n",
            "59/59 [==============================] - 2s 28ms/step - loss: 2.6700e-04 - mean_absolute_error: 0.0115 - val_loss: 0.0016 - val_mean_absolute_error: 0.0309\n",
            "Epoch 42/50\n",
            "59/59 [==============================] - 2s 28ms/step - loss: 2.9408e-04 - mean_absolute_error: 0.0121 - val_loss: 0.0046 - val_mean_absolute_error: 0.0593\n",
            "Epoch 43/50\n",
            "59/59 [==============================] - 2s 30ms/step - loss: 3.0670e-04 - mean_absolute_error: 0.0122 - val_loss: 0.0053 - val_mean_absolute_error: 0.0635\n",
            "Epoch 44/50\n",
            "59/59 [==============================] - 2s 28ms/step - loss: 2.6176e-04 - mean_absolute_error: 0.0113 - val_loss: 0.0019 - val_mean_absolute_error: 0.0349\n",
            "Epoch 45/50\n",
            "59/59 [==============================] - 2s 28ms/step - loss: 2.8119e-04 - mean_absolute_error: 0.0118 - val_loss: 0.0048 - val_mean_absolute_error: 0.0601\n",
            "Epoch 46/50\n",
            "59/59 [==============================] - 2s 28ms/step - loss: 2.3483e-04 - mean_absolute_error: 0.0109 - val_loss: 8.8847e-04 - val_mean_absolute_error: 0.0224\n",
            "Epoch 47/50\n",
            "59/59 [==============================] - 2s 28ms/step - loss: 2.8017e-04 - mean_absolute_error: 0.0117 - val_loss: 0.0033 - val_mean_absolute_error: 0.0485\n",
            "Epoch 48/50\n",
            "59/59 [==============================] - 2s 28ms/step - loss: 2.6003e-04 - mean_absolute_error: 0.0115 - val_loss: 0.0024 - val_mean_absolute_error: 0.0404\n",
            "Epoch 49/50\n",
            "59/59 [==============================] - 2s 29ms/step - loss: 2.6661e-04 - mean_absolute_error: 0.0115 - val_loss: 0.0011 - val_mean_absolute_error: 0.0249\n",
            "Epoch 50/50\n",
            "59/59 [==============================] - 2s 28ms/step - loss: 2.6730e-04 - mean_absolute_error: 0.0115 - val_loss: 0.0044 - val_mean_absolute_error: 0.0580\n"
          ]
        }
      ],
      "source": [
        "# Train the model with validation data\n",
        "model.compile(optimizer = 'adam', loss = 'mean_squared_error', metrics=[tf.keras.metrics.MeanAbsoluteError()])\n",
        "history = model.fit(x_train, y_train, epochs=50, validation_split=0.2)\n"
      ]
    },
    {
      "cell_type": "code",
      "execution_count": 144,
      "id": "zG1W6DhzI-hP",
      "metadata": {
        "id": "zG1W6DhzI-hP"
      },
      "outputs": [
        {
          "data": {
            "text/plain": [
              "<matplotlib.legend.Legend at 0x278d46278b0>"
            ]
          },
          "execution_count": 144,
          "metadata": {},
          "output_type": "execute_result"
        },
        {
          "data": {
            "image/png": "[encoded data removed]",
            "text/plain": [
              "<Figure size 640x480 with 1 Axes>"
            ]
          },
          "metadata": {},
          "output_type": "display_data"
        }
      ],
      "source": [
        "plt.plot(history.history['loss'],label='train')\n",
        "plt.plot(history.history['val_loss'],label='validation')\n",
        "plt.legend()"
      ]
    },
    {
      "cell_type": "markdown",
      "id": "PjvHSsrYpFBG",
      "metadata": {
        "id": "PjvHSsrYpFBG"
      },
      "source": [
        "# Making prediction and plotting the graph of predicted vs actual values\n",
        "\n",
        "---\n",
        "\n"
      ]
    },
    {
      "cell_type": "code",
      "execution_count": 145,
      "id": "GLMExu7NNdmA",
      "metadata": {
        "colab": {
          "base_uri": "https://localhost:8080/"
        },
        "id": "GLMExu7NNdmA",
        "outputId": "0626ce70-22ee-4cd2-ef24-19790cf51ce2"
      },
      "outputs": [
        {
          "name": "stdout",
          "output_type": "stream",
          "text": [
            "32/32 [==============================] - 1s 8ms/step\n",
            "(1023, 1)\n"
          ]
        }
      ],
      "source": [
        "# Making predictions\n",
        "y_pred = model.predict(x_test)\n",
        "print(y_pred.shape)"
      ]
    },
    {
      "cell_type": "code",
      "execution_count": 146,
      "id": "tPcp9BKLN-Y8",
      "metadata": {
        "id": "tPcp9BKLN-Y8"
      },
      "outputs": [],
      "source": [
        "scale_factor = 1/scaler.scale_[0]\n",
        "y_pred = y_pred * scale_factor\n",
        "y_test = y_test * scale_factor"
      ]
    },
    {
      "cell_type": "code",
      "execution_count": 147,
      "id": "phumyMZUOPp_",
      "metadata": {
        "colab": {
          "base_uri": "https://localhost:8080/",
          "height": 544
        },
        "id": "phumyMZUOPp_",
        "outputId": "14b05542-4e0b-4b49-db75-6fdf088eaf4f"
      },
      "outputs": [
        {
          "data": {
            "image/png": "[encoded data removed]",
            "text/plain": [
              "<Figure size 800x500 with 1 Axes>"
            ]
          },
          "metadata": {},
          "output_type": "display_data"
        }
      ],
      "source": [
        "plt.figure(figsize = (8, 5))\n",
        "plt.plot(test_dates, y_test, 'b', label = \"Original Price\")\n",
        "plt.plot(test_dates, y_pred, 'r', label = \"Predicted Price\")\n",
        "plt.xlabel('Date')\n",
        "plt.ylabel('Closing Price')\n",
        "plt.xticks(rotation=45)\n",
        "plt.legend()\n",
        "plt.grid(True)\n",
        "plt.title(\"LSTM (Lookback period = {})\".format(lookback_window_length))\n",
        "plt.tight_layout() \n",
        "plt.savefig('plot.png', bbox_inches='tight', dpi=1200)\n",
        "plt.show()"
      ]
    },
    {
      "cell_type": "markdown",
      "id": "m54ljCJrpShP",
      "metadata": {
        "id": "m54ljCJrpShP"
      },
      "source": [
        "# Model evaluation"
      ]
    },
    {
      "cell_type": "markdown",
      "id": "BdnuOyYQRKRP",
      "metadata": {
        "id": "BdnuOyYQRKRP"
      },
      "source": [
        "Calculation of mean absolute error"
      ]
    },
    {
      "cell_type": "code",
      "execution_count": 148,
      "id": "Yx6JWOKcX3Yo",
      "metadata": {
        "colab": {
          "base_uri": "https://localhost:8080/"
        },
        "id": "Yx6JWOKcX3Yo",
        "outputId": "1d97c812-715c-43e5-d0bb-3dd471c25ac4"
      },
      "outputs": [
        {
          "name": "stdout",
          "output_type": "stream",
          "text": [
            "97.84849836959172\n"
          ]
        }
      ],
      "source": [
        "from sklearn.metrics import mean_absolute_error\n",
        "\n",
        "mae = mean_absolute_error(y_test, y_pred)\n",
        "# mae_percentage = (mae / np.mean(y_test)) * 100\n",
        "# print(\"Mean absolute error on test set: {:.2f}%\".format(mae_percentage))\n",
        "print(mae)"
      ]
    },
    {
      "cell_type": "markdown",
      "id": "M8XnY8cuQIc2",
      "metadata": {
        "id": "M8XnY8cuQIc2"
      },
      "source": [
        "Calculation of R2 score"
      ]
    },
    {
      "cell_type": "code",
      "execution_count": 149,
      "id": "GAAyLdoMNTwZ",
      "metadata": {
        "colab": {
          "base_uri": "https://localhost:8080/"
        },
        "id": "GAAyLdoMNTwZ",
        "outputId": "7e8d7a7a-6580-4f07-f80e-56011ccc8cbd"
      },
      "outputs": [
        {
          "name": "stdout",
          "output_type": "stream",
          "text": [
            "R2 score: 0.9222152148943605\n"
          ]
        }
      ],
      "source": [
        "from sklearn.metrics import r2_score\n",
        "\n",
        "# Actual values\n",
        "actual = y_test\n",
        "\n",
        "# Predicted values\n",
        "predicted = y_pred\n",
        "\n",
        "# Calculate the R2 score\n",
        "r2 = r2_score(actual, predicted)\n",
        "\n",
        "print(\"R2 score:\", r2)"
      ]
    }
  ],
  "metadata": {
    "accelerator": "GPU",
    "colab": {
      "provenance": []
    },
    "gpuClass": "standard",
    "kernelspec": {
      "display_name": "dl_project",
      "language": "python",
      "name": "python3"
    },
    "language_info": {
      "codemirror_mode": {
        "name": "ipython",
        "version": 3
      },
      "file_extension": ".py",
      "mimetype": "text/x-python",
      "name": "python",
      "nbconvert_exporter": "python",
      "pygments_lexer": "ipython3",
      "version": "3.8.20"
    }
  },
  "nbformat": 4,
  "nbformat_minor": 5
}
